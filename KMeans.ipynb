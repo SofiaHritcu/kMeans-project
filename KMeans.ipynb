{
 "cells": [
  {
   "cell_type": "markdown",
   "source": [
    "## Load data"
   ],
   "metadata": {
    "collapsed": false
   }
  },
  {
   "cell_type": "code",
   "execution_count": 49,
   "outputs": [],
   "source": [
    "import csv\n",
    "from random import random, randint\n",
    "\n",
    "class Repository(object):\n",
    "    def __init__(self,fileName):\n",
    "        self.fileName = fileName\n",
    "    def  loadData(self,inputColumnFst,inputColumnSnd,inputColumnThrd,inputColumnFrth,outputColumn,):\n",
    "        data=[]\n",
    "        columns=[]\n",
    "        file = open(self.fileName)\n",
    "        parsedData = csv.reader(file,delimiter=',')\n",
    "       \n",
    "        noLines = 0\n",
    "        for line in parsedData:\n",
    "            if noLines == 0:\n",
    "                columns = line\n",
    "            else:\n",
    "                data.append(line)\n",
    "            noLines += 1\n",
    "                \n",
    "        inputColumnIndexFst = columns.index(inputColumnFst)\n",
    "        inputColumnIndexSnd = columns.index(inputColumnSnd)\n",
    "        inputColumnIndexThrd = columns.index(inputColumnThrd)\n",
    "        inputColumnIndexFrth = columns.index(inputColumnFrth)\n",
    "        outputColumnIndex = columns.index(outputColumn)\n",
    "    \n",
    "        inputDataFst = []\n",
    "        inputDataSnd = []\n",
    "        inputDataThrd = []\n",
    "        inputDataFrth = []\n",
    "        outputData = []\n",
    "        for j in range(len(data)):\n",
    "            inputDataFst.append(float(data[j][inputColumnIndexFst]))\n",
    "            inputDataSnd.append(float(data[j][inputColumnIndexSnd]))\n",
    "            inputDataThrd.append(float(data[j][inputColumnIndexThrd]))\n",
    "            inputDataFrth.append(float(data[j][inputColumnIndexFrth]))\n",
    "            outputData.append(data[j][outputColumnIndex])\n",
    "        \n",
    "        file.close()\n",
    "        \n",
    "        return inputDataFst,inputDataSnd,inputDataThrd,inputDataFrth,outputData\n",
    "    "
   ],
   "metadata": {
    "collapsed": false,
    "pycharm": {
     "name": "#%%\n",
     "is_executing": false
    }
   }
  },
  {
   "cell_type": "code",
   "execution_count": 50,
   "outputs": [
    {
     "name": "stdout",
     "text": [
      "inputs for column sepalLength is: \n",
      "[5.1, 4.9, 4.7, 4.6, 5.0, 5.4, 4.6, 5.0, 4.4, 4.9, 5.4, 4.8, 4.8, 4.3, 5.8, 5.7, 5.4, 5.1, 5.7, 5.1, 5.4, 5.1, 4.6, 5.1, 4.8, 5.0, 5.0, 5.2, 5.2, 4.7, 4.8, 5.4, 5.2, 5.5, 4.9, 5.0, 5.5, 4.9, 4.4, 5.1, 5.0, 4.5, 4.4, 5.0, 5.1, 4.8, 5.1, 4.6, 5.3, 5.0, 7.0, 6.4, 6.9, 5.5, 6.5, 5.7, 6.3, 4.9, 6.6, 5.2, 5.0, 5.9, 6.0, 6.1, 5.6, 6.7, 5.6, 5.8, 6.2, 5.6, 5.9, 6.1, 6.3, 6.1, 6.4, 6.6, 6.8, 6.7, 6.0, 5.7, 5.5, 5.5, 5.8, 6.0, 5.4, 6.0, 6.7, 6.3, 5.6, 5.5, 5.5, 6.1, 5.8, 5.0, 5.6, 5.7, 5.7, 6.2, 5.1, 5.7, 6.3, 5.8, 7.1, 6.3, 6.5, 7.6, 4.9, 7.3, 6.7, 7.2, 6.5, 6.4, 6.8, 5.7, 5.8, 6.4, 6.5, 7.7, 7.7, 6.0, 6.9, 5.6, 7.7, 6.3, 6.7, 7.2, 6.2, 6.1, 6.4, 7.2, 7.4, 7.9, 6.4, 6.3, 6.1, 7.7, 6.3, 6.4, 6.0, 6.9, 6.7, 6.9, 5.8, 6.8, 6.7, 6.7, 6.3, 6.5, 6.2, 5.9]\n",
      "\n",
      "inputs for column sepalWidth is: \n",
      "[3.5, 3.0, 3.2, 3.1, 3.6, 3.9, 3.4, 3.4, 2.9, 3.1, 3.7, 3.4, 3.0, 3.0, 4.0, 4.4, 3.9, 3.5, 3.8, 3.8, 3.4, 3.7, 3.6, 3.3, 3.4, 3.0, 3.4, 3.5, 3.4, 3.2, 3.1, 3.4, 4.1, 4.2, 3.1, 3.2, 3.5, 3.1, 3.0, 3.4, 3.5, 2.3, 3.2, 3.5, 3.8, 3.0, 3.8, 3.2, 3.7, 3.3, 3.2, 3.2, 3.1, 2.3, 2.8, 2.8, 3.3, 2.4, 2.9, 2.7, 2.0, 3.0, 2.2, 2.9, 2.9, 3.1, 3.0, 2.7, 2.2, 2.5, 3.2, 2.8, 2.5, 2.8, 2.9, 3.0, 2.8, 3.0, 2.9, 2.6, 2.4, 2.4, 2.7, 2.7, 3.0, 3.4, 3.1, 2.3, 3.0, 2.5, 2.6, 3.0, 2.6, 2.3, 2.7, 3.0, 2.9, 2.9, 2.5, 2.8, 3.3, 2.7, 3.0, 2.9, 3.0, 3.0, 2.5, 2.9, 2.5, 3.6, 3.2, 2.7, 3.0, 2.5, 2.8, 3.2, 3.0, 3.8, 2.6, 2.2, 3.2, 2.8, 2.8, 2.7, 3.3, 3.2, 2.8, 3.0, 2.8, 3.0, 2.8, 3.8, 2.8, 2.8, 2.6, 3.0, 3.4, 3.1, 3.0, 3.1, 3.1, 3.1, 2.7, 3.2, 3.3, 3.0, 2.5, 3.0, 3.4, 3.0]\n",
      "\n",
      "inputs for column petalLength is: \n",
      "[1.4, 1.4, 1.3, 1.5, 1.4, 1.7, 1.4, 1.5, 1.4, 1.5, 1.5, 1.6, 1.4, 1.1, 1.2, 1.5, 1.3, 1.4, 1.7, 1.5, 1.7, 1.5, 1.0, 1.7, 1.9, 1.6, 1.6, 1.5, 1.4, 1.6, 1.6, 1.5, 1.5, 1.4, 1.5, 1.2, 1.3, 1.5, 1.3, 1.5, 1.3, 1.3, 1.3, 1.6, 1.9, 1.4, 1.6, 1.4, 1.5, 1.4, 4.7, 4.5, 4.9, 4.0, 4.6, 4.5, 4.7, 3.3, 4.6, 3.9, 3.5, 4.2, 4.0, 4.7, 3.6, 4.4, 4.5, 4.1, 4.5, 3.9, 4.8, 4.0, 4.9, 4.7, 4.3, 4.4, 4.8, 5.0, 4.5, 3.5, 3.8, 3.7, 3.9, 5.1, 4.5, 4.5, 4.7, 4.4, 4.1, 4.0, 4.4, 4.6, 4.0, 3.3, 4.2, 4.2, 4.2, 4.3, 3.0, 4.1, 6.0, 5.1, 5.9, 5.6, 5.8, 6.6, 4.5, 6.3, 5.8, 6.1, 5.1, 5.3, 5.5, 5.0, 5.1, 5.3, 5.5, 6.7, 6.9, 5.0, 5.7, 4.9, 6.7, 4.9, 5.7, 6.0, 4.8, 4.9, 5.6, 5.8, 6.1, 6.4, 5.6, 5.1, 5.6, 6.1, 5.6, 5.5, 4.8, 5.4, 5.6, 5.1, 5.1, 5.9, 5.7, 5.2, 5.0, 5.2, 5.4, 5.1]\n",
      "\n",
      "inputs for column petalWidth is: \n",
      "[0.2, 0.2, 0.2, 0.2, 0.2, 0.4, 0.3, 0.2, 0.2, 0.1, 0.2, 0.2, 0.1, 0.1, 0.2, 0.4, 0.4, 0.3, 0.3, 0.3, 0.2, 0.4, 0.2, 0.5, 0.2, 0.2, 0.4, 0.2, 0.2, 0.2, 0.2, 0.4, 0.1, 0.2, 0.1, 0.2, 0.2, 0.1, 0.2, 0.2, 0.3, 0.3, 0.2, 0.6, 0.4, 0.3, 0.2, 0.2, 0.2, 0.2, 1.4, 1.5, 1.5, 1.3, 1.5, 1.3, 1.6, 1.0, 1.3, 1.4, 1.0, 1.5, 1.0, 1.4, 1.3, 1.4, 1.5, 1.0, 1.5, 1.1, 1.8, 1.3, 1.5, 1.2, 1.3, 1.4, 1.4, 1.7, 1.5, 1.0, 1.1, 1.0, 1.2, 1.6, 1.5, 1.6, 1.5, 1.3, 1.3, 1.3, 1.2, 1.4, 1.2, 1.0, 1.3, 1.2, 1.3, 1.3, 1.1, 1.3, 2.5, 1.9, 2.1, 1.8, 2.2, 2.1, 1.7, 1.8, 1.8, 2.5, 2.0, 1.9, 2.1, 2.0, 2.4, 2.3, 1.8, 2.2, 2.3, 1.5, 2.3, 2.0, 2.0, 1.8, 2.1, 1.8, 1.8, 1.8, 2.1, 1.6, 1.9, 2.0, 2.2, 1.5, 1.4, 2.3, 2.4, 1.8, 1.8, 2.1, 2.4, 2.3, 1.9, 2.3, 2.5, 2.3, 1.9, 2.0, 2.3, 1.8]\n",
      "\n",
      "outputs for column class is: \n",
      "['Iris-setosa', 'Iris-setosa', 'Iris-setosa', 'Iris-setosa', 'Iris-setosa', 'Iris-setosa', 'Iris-setosa', 'Iris-setosa', 'Iris-setosa', 'Iris-setosa', 'Iris-setosa', 'Iris-setosa', 'Iris-setosa', 'Iris-setosa', 'Iris-setosa', 'Iris-setosa', 'Iris-setosa', 'Iris-setosa', 'Iris-setosa', 'Iris-setosa', 'Iris-setosa', 'Iris-setosa', 'Iris-setosa', 'Iris-setosa', 'Iris-setosa', 'Iris-setosa', 'Iris-setosa', 'Iris-setosa', 'Iris-setosa', 'Iris-setosa', 'Iris-setosa', 'Iris-setosa', 'Iris-setosa', 'Iris-setosa', 'Iris-setosa', 'Iris-setosa', 'Iris-setosa', 'Iris-setosa', 'Iris-setosa', 'Iris-setosa', 'Iris-setosa', 'Iris-setosa', 'Iris-setosa', 'Iris-setosa', 'Iris-setosa', 'Iris-setosa', 'Iris-setosa', 'Iris-setosa', 'Iris-setosa', 'Iris-setosa', 'Iris-versicolor', 'Iris-versicolor', 'Iris-versicolor', 'Iris-versicolor', 'Iris-versicolor', 'Iris-versicolor', 'Iris-versicolor', 'Iris-versicolor', 'Iris-versicolor', 'Iris-versicolor', 'Iris-versicolor', 'Iris-versicolor', 'Iris-versicolor', 'Iris-versicolor', 'Iris-versicolor', 'Iris-versicolor', 'Iris-versicolor', 'Iris-versicolor', 'Iris-versicolor', 'Iris-versicolor', 'Iris-versicolor', 'Iris-versicolor', 'Iris-versicolor', 'Iris-versicolor', 'Iris-versicolor', 'Iris-versicolor', 'Iris-versicolor', 'Iris-versicolor', 'Iris-versicolor', 'Iris-versicolor', 'Iris-versicolor', 'Iris-versicolor', 'Iris-versicolor', 'Iris-versicolor', 'Iris-versicolor', 'Iris-versicolor', 'Iris-versicolor', 'Iris-versicolor', 'Iris-versicolor', 'Iris-versicolor', 'Iris-versicolor', 'Iris-versicolor', 'Iris-versicolor', 'Iris-versicolor', 'Iris-versicolor', 'Iris-versicolor', 'Iris-versicolor', 'Iris-versicolor', 'Iris-versicolor', 'Iris-versicolor', 'Iris-virginica', 'Iris-virginica', 'Iris-virginica', 'Iris-virginica', 'Iris-virginica', 'Iris-virginica', 'Iris-virginica', 'Iris-virginica', 'Iris-virginica', 'Iris-virginica', 'Iris-virginica', 'Iris-virginica', 'Iris-virginica', 'Iris-virginica', 'Iris-virginica', 'Iris-virginica', 'Iris-virginica', 'Iris-virginica', 'Iris-virginica', 'Iris-virginica', 'Iris-virginica', 'Iris-virginica', 'Iris-virginica', 'Iris-virginica', 'Iris-virginica', 'Iris-virginica', 'Iris-virginica', 'Iris-virginica', 'Iris-virginica', 'Iris-virginica', 'Iris-virginica', 'Iris-virginica', 'Iris-virginica', 'Iris-virginica', 'Iris-virginica', 'Iris-virginica', 'Iris-virginica', 'Iris-virginica', 'Iris-virginica', 'Iris-virginica', 'Iris-virginica', 'Iris-virginica', 'Iris-virginica', 'Iris-virginica', 'Iris-virginica', 'Iris-virginica', 'Iris-virginica', 'Iris-virginica', 'Iris-virginica', 'Iris-virginica']\n",
      "\n"
     ],
     "output_type": "stream"
    }
   ],
   "source": [
    "filename = \"data.csv\"\n",
    "repository = Repository(filename)\n",
    "inputColumnFst = 'sepalLength'\n",
    "inputColumnSnd = 'sepalWidth'\n",
    "inputColumnThrd = 'petalLength'\n",
    "inputColumnFrth = 'petalWidth'\n",
    "\n",
    "outputColumn = 'class'\n",
    "inputDataResultFst,inputDataResultSnd,inputDataResultThrd,inputDataResultFrth,outputDataResult = repository.loadData(inputColumnFst,inputColumnSnd,inputColumnThrd,inputColumnFrth, outputColumn)\n",
    "print('inputs for column '+inputColumnFst +' is: \\n'+str(inputDataResultFst)+'\\n')\n",
    "print('inputs for column '+inputColumnSnd +' is: \\n'+str(inputDataResultSnd)+'\\n')\n",
    "print('inputs for column '+inputColumnThrd +' is: \\n'+str(inputDataResultThrd)+'\\n')\n",
    "print('inputs for column '+inputColumnFrth +' is: \\n'+str(inputDataResultFrth)+'\\n')\n",
    "print('outputs for column '+outputColumn +' is: \\n'+str(outputDataResult)+'\\n')\n"
   ],
   "metadata": {
    "collapsed": false,
    "pycharm": {
     "name": "#%%\n",
     "is_executing": false
    }
   }
  },
  {
   "cell_type": "markdown",
   "source": [
    "### plot data on classes "
   ],
   "metadata": {
    "collapsed": false
   }
  },
  {
   "cell_type": "code",
   "execution_count": 51,
   "outputs": [
    {
     "data": {
      "text/plain": "<Figure size 432x288 with 1 Axes>",
      "image/png": "[encoded data removed]"
     },
     "metadata": {
      "needs_background": "light"
     },
     "output_type": "display_data"
    }
   ],
   "source": [
    "\n",
    "\n",
    "import matplotlib.pyplot as plt\n",
    "labels = set(outputDataResult)\n",
    "labelsNames = []\n",
    "noData = len(inputDataResultFst)\n",
    "\n",
    "for label in labels:\n",
    "    x=[]\n",
    "    y=[]\n",
    "    for dt in range(len(inputDataResultFst)):\n",
    "        if outputDataResult[dt] == label:\n",
    "            x.append((inputDataResultFst[dt]+inputDataResultSnd[dt])/2)\n",
    "            y.append((inputDataResultThrd[dt]+inputDataResultFrth[dt])/2)\n",
    "    plt.scatter(x, y, label = label)\n",
    "\n",
    "plt.xlabel('mean sepal')\n",
    "plt.ylabel('mean petal')\n",
    "plt.legend()\n",
    "plt.show()"
   ],
   "metadata": {
    "collapsed": false,
    "pycharm": {
     "name": "#%%\n",
     "is_executing": false
    }
   }
  },
  {
   "cell_type": "markdown",
   "source": [
    "### defining function for plotting the inputData and the outputData"
   ],
   "metadata": {
    "collapsed": false
   }
  },
  {
   "cell_type": "code",
   "execution_count": 52,
   "outputs": [
    {
     "data": {
      "text/plain": "<Figure size 432x288 with 1 Axes>",
      "image/png": "[encoded data removed]"
     },
     "metadata": {
      "needs_background": "light"
     },
     "output_type": "display_data"
    },
    {
     "data": {
      "text/plain": "<Figure size 432x288 with 1 Axes>",
      "image/png": "[encoded data removed]"
     },
     "metadata": {
      "needs_background": "light"
     },
     "output_type": "display_data"
    },
    {
     "data": {
      "text/plain": "<Figure size 432x288 with 1 Axes>",
      "image/png": "[encoded data removed]"
     },
     "metadata": {
      "needs_background": "light"
     },
     "output_type": "display_data"
    }
   ],
   "source": [
    "import matplotlib.pyplot as plt \n",
    "\n",
    "inputDataMeanFst = []\n",
    "inputDataMeanSnd = []\n",
    "for dt in range(len(inputDataResultFst)):\n",
    "    inputDataMeanFst.append((inputDataResultFst[dt]+inputDataResultSnd[dt])/2)\n",
    "    inputDataMeanSnd.append((inputDataResultThrd[dt]+inputDataResultFrth[dt])/2)\n",
    "\n",
    "def plotDataHistogram(x, columnName):\n",
    "    plt.hist(x, 10)\n",
    "    plt.title('Histogram of ' + columnName)\n",
    "    plt.show()\n",
    "    \n",
    "plotDataHistogram(inputDataMeanFst,'meanSepal')\n",
    "plotDataHistogram(inputDataMeanSnd,'meanPetal')\n",
    "\n",
    "#plotDataHistogram(inputDataResultFst,inputColumnFst)\n",
    "#plotDataHistogram(inputDataResultSnd,inputColumnSnd)\n",
    "#plotDataHistogram(inputDataResultThrd,inputColumnThrd)\n",
    "#plotDataHistogram(inputDataResultFrth,inputColumnFrth)\n",
    "\n",
    "plotDataHistogram(outputDataResult,outputColumn)"
   ],
   "metadata": {
    "collapsed": false,
    "pycharm": {
     "name": "#%%\n",
     "is_executing": false
    }
   }
  },
  {
   "cell_type": "markdown",
   "source": [
    "### separating training data from test data 20%-80%"
   ],
   "metadata": {
    "collapsed": false
   }
  },
  {
   "cell_type": "code",
   "execution_count": 53,
   "outputs": [],
   "source": [
    "import numpy as np \n",
    "import math\n",
    "\n",
    "np.random.seed(5)\n",
    "\n",
    "# generate the positions of the data that will be a part of the test data\n",
    "noTestDataIndexes = math.floor( 0.2 * len(inputDataResultFst))\n",
    "testDataIndexes = []\n",
    "for index in range(0,noTestDataIndexes):\n",
    "    testDataIndexes.append(np.random.randint(0,len(inputDataResultFst)))\n",
    "\n",
    "inputTestFst = []\n",
    "inputTestSnd = []\n",
    "inputTestThrd = []\n",
    "inputTestFrth = []\n",
    "inputTestMeanFst = []\n",
    "inputTestMeanSnd = []\n",
    "outputTest = []\n",
    "inputTrainingFst = []\n",
    "inputTrainingSnd = []\n",
    "inputTrainingThrd = []\n",
    "inputTrainingFrth = []\n",
    "inputTrainingMeanFst = []\n",
    "inputTrainingMeanSnd = []\n",
    "outputTraining = []\n",
    "for i in range (0,len(inputDataResultFst)):\n",
    "    if i in testDataIndexes :\n",
    "        inputTestFst.append(inputDataResultFst[i])\n",
    "        inputTestSnd.append(inputDataResultSnd[i])\n",
    "        inputTestThrd.append(inputDataResultThrd[i])\n",
    "        inputTestFrth.append(inputDataResultFrth[i])\n",
    "        inputTestMeanFst.append(inputDataMeanFst[i])\n",
    "        inputTestMeanSnd.append(inputDataMeanSnd[i])\n",
    "        outputTest.append(outputDataResult[i])\n",
    "    else:\n",
    "        inputTrainingFst.append(inputDataResultFst[i])\n",
    "        inputTrainingSnd.append(inputDataResultSnd[i])\n",
    "        inputTrainingThrd.append(inputDataResultThrd[i])\n",
    "        inputTrainingFrth.append(inputDataResultFrth[i])\n",
    "        inputTrainingMeanFst.append(inputDataMeanFst[i])\n",
    "        inputTrainingMeanSnd.append(inputDataMeanSnd[i])\n",
    "        outputTraining.append(outputDataResult[i])"
   ],
   "metadata": {
    "collapsed": false,
    "pycharm": {
     "name": "#%%\n",
     "is_executing": false
    }
   }
  },
  {
   "cell_type": "markdown",
   "source": [
    "**normalize data**"
   ],
   "metadata": {
    "collapsed": false
   }
  },
  {
   "cell_type": "code",
   "execution_count": 54,
   "outputs": [],
   "source": [
    "def mean(inputs):\n",
    "    meanVector = []\n",
    "    sum1 = 0\n",
    "    sum2 = 0\n",
    "    sum3 = 0\n",
    "    sum4 = 0\n",
    "    noOfSamples = len(inputs)\n",
    "    for i in range(0,len(inputs)):\n",
    "        sum1 += inputs[i][0]\n",
    "        sum2 += inputs[i][1]\n",
    "        sum3 += inputs[i][2]\n",
    "        sum4 += inputs[i][3]\n",
    "    meanVector.append(sum1/noOfSamples)\n",
    "    meanVector.append(sum2/noOfSamples)\n",
    "    meanVector.append(sum3/noOfSamples)\n",
    "    meanVector.append(sum4/noOfSamples)\n",
    "    return meanVector\n",
    "\n",
    "def stdDev(inputs):\n",
    "    stdDevVector = []\n",
    "    meanVector = mean(inputs)\n",
    "    noOfSamples = len(inputs)\n",
    "    sum1 = 0\n",
    "    sum2 = 0\n",
    "    sum3 = 0\n",
    "    sum4 = 0\n",
    "    for i in range(0,len(inputs)):\n",
    "        sum1 += (inputs[i][0] - meanVector[0]) ** 2\n",
    "        sum2 += (inputs[i][1] - meanVector[1]) ** 2\n",
    "        sum3 += (inputs[i][2] - meanVector[2]) ** 2\n",
    "        sum4 += (inputs[i][3] - meanVector[3]) ** 2\n",
    "    \n",
    "    stdDevVector.append((1/noOfSamples * sum1) ** 0.5)\n",
    "    stdDevVector.append((1/noOfSamples * sum2) ** 0.5)\n",
    "    stdDevVector.append((1/noOfSamples * sum3) ** 0.5)\n",
    "    stdDevVector.append((1/noOfSamples * sum4) ** 0.5)\n",
    "    return stdDevVector\n",
    "        \n",
    "\n",
    "def statisticalNormalization(inputs,meanVector,stdDevVector):\n",
    "    normalizedFeatures = []\n",
    "    print(stdDevVector)\n",
    "    for i in range(0,len(inputs)):\n",
    "        normalizedFeatures.append([(inputs[i][0]-meanVector[0])/stdDevVector[0],(inputs[i][1]-meanVector[1])/stdDevVector[1],(inputs[i][2]-meanVector[2])/stdDevVector[2],(inputs[i][3]-meanVector[3])/stdDevVector[3]])\n",
    "    return  normalizedFeatures"
   ],
   "metadata": {
    "collapsed": false,
    "pycharm": {
     "name": "#%%\n",
     "is_executing": false
    }
   }
  },
  {
   "cell_type": "markdown",
   "source": [
    "**normalize training Data**\n",
    "\n"
   ],
   "metadata": {
    "collapsed": false
   }
  },
  {
   "cell_type": "code",
   "execution_count": 55,
   "outputs": [
    {
     "name": "stdout",
     "text": [
      "[0.7980330645270347, 0.4417384363139212, 1.735917313743868, 0.7532793773676945]\n"
     ],
     "output_type": "stream"
    }
   ],
   "source": [
    "inputsTraining = []\n",
    "for i in range(0,len(inputTrainingFst)):\n",
    "    inputsTraining.append([inputTrainingFst[i],inputTrainingSnd[i],inputTrainingThrd[i],inputTrainingFrth[i]])\n",
    "meanVector = mean(inputsTraining)\n",
    "stdDevVector = stdDev(inputsTraining)\n",
    "normalized = statisticalNormalization(inputsTraining,meanVector,stdDevVector)\n",
    "\n",
    "\n",
    "fstNormalizedTraining = []\n",
    "sndNormalizedTraining = []\n",
    "thrdNormalizedTraining = []\n",
    "frthNormalizedTraining = []\n",
    "for i in range(0,len(normalized)):\n",
    "    fstNormalizedTraining.append(normalized[i][0])\n",
    "    sndNormalizedTraining.append(normalized[i][1])\n",
    "    thrdNormalizedTraining.append(normalized[i][2])\n",
    "    frthNormalizedTraining.append(normalized[i][3])\n",
    "    \n",
    "\n",
    "from sklearn.preprocessing import StandardScaler\n",
    "\n",
    "def normalisation(trainData, testData):\n",
    "    scaler = StandardScaler()\n",
    "    if not isinstance(trainData[0], list):\n",
    "        #encode each sample into a list\n",
    "        trainData = [[d] for d in trainData]\n",
    "        testData = [[d] for d in testData]\n",
    "        \n",
    "        scaler.fit(trainData)  #  fit only on training data\n",
    "        normalisedTrainData = scaler.transform(trainData) # apply same transformation to train data\n",
    "        normalisedTestData = scaler.transform(testData)  # apply same transformation to test data\n",
    "        \n",
    "        #decode from list to raw values\n",
    "        normalisedTrainData = [el[0] for el in normalisedTrainData]\n",
    "        normalisedTestData = [el[0] for el in normalisedTestData]\n",
    "    else:\n",
    "        scaler.fit(trainData)  #  fit only on training data\n",
    "        normalisedTrainData = scaler.transform(trainData) # apply same transformation to train data\n",
    "        normalisedTestData = scaler.transform(testData)  # apply same transformation to test data\n",
    "    return normalisedTrainData, normalisedTestData\n",
    "\n",
    "\n",
    "beforeNormalisationTrInput = []\n",
    "beforeNormalisationTrOutput = []\n",
    "beforeNormalisationTestInput = []\n",
    "beforeNormalisationTestOutput = []\n",
    "for dt in range(0,len(inputTrainingMeanFst)):\n",
    "    beforeNormalisationTrInput.append([inputTrainingMeanFst[dt],inputTrainingMeanSnd[dt]])\n",
    "    beforeNormalisationTrOutput.append(outputTraining[dt])\n",
    "for dt in range(0,len(inputTestMeanFst)):\n",
    "    beforeNormalisationTestInput.append([inputTestMeanFst[dt],inputTestMeanSnd[dt]])\n",
    "    beforeNormalisationTestOutput.append(outputTest[dt])\n",
    "\n",
    "normalisedTrainData,normalisedTestData = normalisation(beforeNormalisationTrInput,beforeNormalisationTestInput)"
   ],
   "metadata": {
    "collapsed": false,
    "pycharm": {
     "name": "#%%\n",
     "is_executing": false
    }
   }
  },
  {
   "cell_type": "markdown",
   "source": [
    "**normalize test Data**\n"
   ],
   "metadata": {
    "collapsed": false
   }
  },
  {
   "cell_type": "code",
   "execution_count": 56,
   "outputs": [
    {
     "name": "stdout",
     "text": [
      "[0.7980330645270347, 0.4417384363139212, 1.735917313743868, 0.7532793773676945]\n"
     ],
     "output_type": "stream"
    }
   ],
   "source": [
    "inputsTest = []\n",
    "for i in range(0,len(inputTestFst)):\n",
    "    inputsTest.append([inputTestFst[i],inputTestSnd[i],inputTestThrd[i],inputTestFrth[i]])\n",
    "normalizedTest = statisticalNormalization(inputsTest,meanVector,stdDevVector)\n",
    "\n",
    "fstNormalizedTest = []\n",
    "sndNormalizedTest = []\n",
    "thrdNormalizedTest = []\n",
    "frthNormalizedTest = []\n",
    "for i in range(0,len(normalizedTest)):\n",
    "    fstNormalizedTest.append(normalizedTest[i][0])\n",
    "    sndNormalizedTest.append(normalizedTest[i][1])\n",
    "    thrdNormalizedTest.append(normalizedTest[i][2])\n",
    "    frthNormalizedTest.append(normalizedTest[i][3])\n",
    "\n",
    "trainInputs = []\n",
    "trainOutputs = []\n",
    "testInputs = []\n",
    "testOutputs = []\n",
    "for dt in range(len(inputTrainingMeanFst)):\n",
    "    trainInputs.append([fstNormalizedTraining[dt],sndNormalizedTraining[dt],thrdNormalizedTraining[dt],frthNormalizedTraining[dt]])\n",
    "    trainOutputs.append(outputTraining[dt])\n",
    "for dt in range(len(inputTestMeanFst)):\n",
    "    testInputs.append([fstNormalizedTest[dt],sndNormalizedTest[dt],thrdNormalizedTest[dt],frthNormalizedTest[dt]])\n",
    "    testOutputs.append(outputTest[dt])"
   ],
   "metadata": {
    "collapsed": false,
    "pycharm": {
     "name": "#%%\n",
     "is_executing": false
    }
   }
  },
  {
   "cell_type": "markdown",
   "source": [
    "**plot normalized data**"
   ],
   "metadata": {
    "collapsed": false
   }
  },
  {
   "cell_type": "code",
   "execution_count": 57,
   "outputs": [
    {
     "data": {
      "text/plain": "<Figure size 432x288 with 1 Axes>",
      "image/png": "[encoded data removed]"
     },
     "metadata": {
      "needs_background": "light"
     },
     "output_type": "display_data"
    }
   ],
   "source": [
    "def plotClassificationData(feature1, feature2, outputs, title = None):\n",
    "    labels = set(outputs)\n",
    "    noData = len(feature1)\n",
    "    for label in labels:\n",
    "        x = [feature1[i] for i in range(noData) if outputs[i] == label ]\n",
    "        y = [feature2[i] for i in range(noData) if outputs[i] == label ]\n",
    "        plt.scatter(x, y, label = label)\n",
    "    plt.xlabel('mean radius')\n",
    "    plt.ylabel('mean texture')\n",
    "    plt.legend()\n",
    "    plt.title(title)\n",
    "    plt.show()\n",
    "\n",
    "fstTrain = [ex[0] for ex in normalisedTrainData]\n",
    "sndTrain = [ex[1] for ex in normalisedTrainData]\n",
    "fstTest = [ex[0] for ex in normalisedTestData]\n",
    "sndTest = [ex[1] for ex in normalisedTestData]  \n",
    "\n",
    "#plotClassificationData(fstTrain, sndTrain, trainOutputs, 'normalised train data')\n",
    "plotClassificationData(fstTrain, sndTrain, trainOutputs, 'normalised train data')"
   ],
   "metadata": {
    "collapsed": false,
    "pycharm": {
     "name": "#%%\n",
     "is_executing": false
    }
   }
  },
  {
   "cell_type": "markdown",
   "source": [
    "**K-means implmentation**"
   ],
   "metadata": {
    "collapsed": false
   }
  },
  {
   "cell_type": "code",
   "execution_count": 58,
   "outputs": [],
   "source": [
    "def init_centroids(k, data):\n",
    "    c = []\n",
    "    # Generate a list of k random numbers between 0 and the length of features of dataset\n",
    "    s = np.random.randint(low=1, high=len(data), size=k)\n",
    "    # Check if all members of 's' are unique, if not, generate again\n",
    "    while len(s) != len(set(s)):\n",
    "        s = np.random.randint(low=1, high=len(data), size=k)\n",
    "    # For every i in s, get ith feature from dataset, and add it to list\n",
    "    for i in s:\n",
    "        c.append(data[i])\n",
    "    return c\n",
    "\n",
    "def eucDistance(a, b):\n",
    "    sum = 0\n",
    "    for i, j in zip(a, b):\n",
    "        a = (i - j) * (i - j)\n",
    "        sum = sum + a\n",
    "    return math.sqrt(sum)\n",
    "\n",
    "def calcDistances(centroids, data):\n",
    "    c_dist = []\n",
    "    # For each centroid c, iterate through all points in data to calculate its distance from c\n",
    "    for i in centroids:\n",
    "        temp = []\n",
    "        for j in data:\n",
    "            temp.append(eucDistance(i, j))\n",
    "        c_dist.append(temp)\n",
    "    return c_dist\n",
    "\n",
    "def clustering(k, distances):\n",
    "    # create empty cluster list of size k\n",
    "    clusters = []\n",
    "    for i in range(k):\n",
    "        clusters.append([])\n",
    "    # start clustering data points, such that each point is clustered to nearest centroid\n",
    "    for i in range(len(distances[0])):\n",
    "        d = []\n",
    "        for j in range(len(distances)):\n",
    "            d.append(distances[j][i])\n",
    "        clusters[d.index(min(d))].append(i)\n",
    "    return clusters\n",
    "\n",
    "def updateCentroids(centroids, clusters, data):\n",
    "    for i in range(len(centroids)):\n",
    "        if len(clusters) > 0:\n",
    "            temp = []\n",
    "            # Copy features of cluster members to temp list\n",
    "            for j in clusters[i]:\n",
    "                temp.append(list(data[j]))\n",
    "            # Take mean of features of all members of cluster to get new centroid location\n",
    "            sum = [0] * len(centroids[i])\n",
    "            for l in temp:\n",
    "                sum = [(a + b) for a, b in zip(sum, l)]\n",
    "            centroids[i] = [p / len(temp) for p in sum]\n",
    "\n",
    "    return centroids\n",
    "\n",
    "\n",
    "\n",
    "def kMeans(k, data, epochs):\n",
    "    # Initialize centroids\n",
    "    centroids = init_centroids(k, data)\n",
    "    # Calculate distance table\n",
    "    distances = calcDistances(centroids, data)\n",
    "    # Perform clustering based on above generated distance table\n",
    "    clusters = clustering(k, distances)\n",
    "    # Update centroid location based on above generated cluster table\n",
    "    newCentroids = updateCentroids(centroids, clusters, data)\n",
    "\n",
    "    # Repeat from step 2 till stopping criteria is met\n",
    "    for i in range(epochs):\n",
    "        distances = calcDistances(newCentroids, data)\n",
    "        clusters = clustering(k, distances)\n",
    "        newCentroids = updateCentroids(newCentroids, clusters, data)\n",
    "\n",
    "    \n",
    "    centroids = []\n",
    "    # Display the final results\n",
    "    for i in range(len(newCentroids)):\n",
    "        print(\"Centroid \", i, \": \", newCentroids[i])\n",
    "        centroids.append(newCentroids[i])\n",
    "        print(\"Members of the cluster: \")\n",
    "        for j in range(len(clusters[i])):\n",
    "            print(normalisedTrainData[clusters[i][j]])\n",
    "    return centroids"
   ],
   "metadata": {
    "collapsed": false,
    "pycharm": {
     "name": "#%%\n",
     "is_executing": false
    }
   }
  },
  {
   "cell_type": "markdown",
   "source": [
    "**solve**"
   ],
   "metadata": {
    "collapsed": false
   }
  },
  {
   "cell_type": "code",
   "execution_count": 59,
   "outputs": [
    {
     "name": "stdout",
     "text": [
      "Centroid  0 :  [1.2300615821962366, 1.0733768495512646]\n",
      "Members of the cluster: \n",
      "[1.54446873 0.52429824]\n",
      "[0.85060468 0.48381318]\n",
      "[1.31318071 0.64575342]\n",
      "[0.50367266 0.52429824]\n",
      "[0.85060468 0.60526836]\n",
      "[0.85060468 0.40284306]\n",
      "[0.85060468 0.5647833 ]\n",
      "[0.96624869 0.76720859]\n",
      "[0.61931667 0.52429824]\n",
      "[0.85060468 1.49593965]\n",
      "[1.42882472 1.29351436]\n",
      "[0.73496068 1.29351436]\n",
      "[1.54446873 1.33399942]\n",
      "[0.38802865 1.13157412]\n",
      "[2.23833277 1.53642471]\n",
      "[0.85060468 1.13157412]\n",
      "[0.73496068 1.01011895]\n",
      "[3.04784082 1.65787989]\n",
      "[1.42882472 1.29351436]\n",
      "[1.89140075 1.57690977]\n",
      "[1.31318071 1.21254424]\n",
      "[0.38802865 1.17205918]\n",
      "[1.54446873 1.29351436]\n",
      "[3.27912884 1.45545459]\n",
      "[2.12268876 1.45545459]\n",
      "[0.96624869 1.29351436]\n",
      "[1.31318071 1.09108906]\n",
      "[1.0818927  1.29351436]\n",
      "[1.31318071 1.050604  ]\n",
      "[0.96624869 1.09108906]\n",
      "[0.73496068 0.96963389]\n",
      "[0.85060468 1.17205918]\n",
      "Centroid  1 :  [-0.4682876877275791, -1.2609000647978643]\n",
      "Members of the cluster: \n",
      "[-1.11534344 -1.2975294 ]\n",
      "[-1.11534344 -1.33801446]\n",
      "[-1.34663146 -1.25704434]\n",
      "[-0.30583539 -1.2975294 ]\n",
      "[-0.99969944 -1.25704434]\n",
      "[-0.99969944 -1.2975294 ]\n",
      "[ 0.27238465 -1.25704434]\n",
      "[-0.76841142 -1.21655929]\n",
      "[-1.23098745 -1.33801446]\n",
      "[-1.80920749 -1.45946964]\n",
      "[ 1.0818927  -1.37849952]\n",
      "[ 1.42882472 -1.17607423]\n",
      "[ 0.50367266 -1.25704434]\n",
      "[-0.30583539 -1.25704434]\n",
      "[ 0.73496068 -1.13558917]\n",
      "[ 0.04109663 -1.21655929]\n",
      "[-0.07454738 -1.17607423]\n",
      "[-0.07454738 -1.17607423]\n",
      "[-0.76841142 -1.45946964]\n",
      "[-0.53712341 -1.05461905]\n",
      "[-0.76841142 -1.09510411]\n",
      "[-0.99969944 -1.21655929]\n",
      "[-0.53712341 -1.13558917]\n",
      "[-0.30583539 -1.2975294 ]\n",
      "[-1.11534344 -1.21655929]\n",
      "[-0.07454738 -1.17607423]\n",
      "[ 0.50367266 -1.2975294 ]\n",
      "[ 0.96624869 -1.2975294 ]\n",
      "[-0.99969944 -1.2975294 ]\n",
      "[-0.76841142 -1.37849952]\n",
      "[ 0.15674064 -1.33801446]\n",
      "[-0.99969944 -1.2975294 ]\n",
      "[-1.69356348 -1.33801446]\n",
      "[-0.4214794  -1.25704434]\n",
      "[-0.4214794 -1.2975294]\n",
      "[-1.46227547 -1.33801446]\n",
      "[-0.4214794  -1.05461905]\n",
      "[-1.23098745 -1.25704434]\n",
      "[ 0.04109663 -1.21655929]\n",
      "[-1.23098745 -1.2975294 ]\n",
      "[ 0.15674064 -1.25704434]\n",
      "[-0.65276741 -1.2975294 ]\n",
      "Centroid  2 :  [-0.41901888820684724, 0.3959519901248896]\n",
      "Members of the cluster: \n",
      "[-1.23098745  0.20041777]\n",
      "[-0.4214794   0.40284306]\n",
      "[-1.80920749 -0.20443282]\n",
      "[-1.11534344  0.20041777]\n",
      "[-2.15613951 -0.1234627 ]\n",
      "[0.04109663 0.36235801]\n",
      "[-0.76841142  0.07896259]\n",
      "[0.15674064 0.52429824]\n",
      "[-0.4214794   0.03847754]\n",
      "[-0.30583539  0.48381318]\n",
      "[-0.4214794   0.11944765]\n",
      "[-0.53712341  0.48381318]\n",
      "[-0.88405543  0.07896259]\n",
      "[0.27238465 0.72672353]\n",
      "[0.04109663 0.20041777]\n",
      "[-0.07454738  0.64575342]\n",
      "[0.50367266 0.32187295]\n",
      "[0.04109663 0.48381318]\n",
      "[-0.65276741 -0.1234627 ]\n",
      "[-1.11534344 -0.04249258]\n",
      "[-0.4214794   0.11944765]\n",
      "[-0.19019138  0.76720859]\n",
      "[-0.53712341  0.48381318]\n",
      "[-0.30583539  0.36235801]\n",
      "[-0.30583539  0.24090283]\n",
      "[-0.99969944  0.20041777]\n",
      "[-0.88405543  0.32187295]\n",
      "[0.27238465 0.48381318]\n",
      "[-0.53712341  0.15993271]\n",
      "[-1.80920749 -0.20443282]\n",
      "[-0.65276741  0.28138789]\n",
      "[-0.19019138  0.24090283]\n",
      "[-0.30583539  0.28138789]\n",
      "[0.27238465 0.32187295]\n",
      "[-1.46227547 -0.28540293]\n",
      "[-0.4214794   0.88866377]\n",
      "[0.27238465 0.96963389]\n",
      "[-0.30583539  1.09108906]\n",
      "[-0.76841142  0.68623848]\n",
      "[0.15674064 0.76720859]\n",
      "[0.15674064 0.72672353]\n",
      "[0.27238465 0.76720859]\n",
      "[0.27238465 0.72672353]\n",
      "[-0.19019138  0.88866377]\n",
      "[0.15674064 0.72672353]\n",
      "[-0.4214794   0.88866377]\n",
      "[0.04109663 0.84817871]\n",
      "[[1.2300615821962366, 1.0733768495512646], [-0.4682876877275791, -1.2609000647978643], [-0.41901888820684724, 0.3959519901248896]]\n"
     ],
     "output_type": "stream"
    }
   ],
   "source": [
    "trainInputs = []\n",
    "for i in range(0,len(normalisedTrainData)):\n",
    "    trainInputs.append([normalisedTrainData[i][0],normalisedTrainData[i][1]])\n",
    "centers = kMeans(3,trainInputs,11)\n",
    "print(centers)"
   ],
   "metadata": {
    "collapsed": false,
    "pycharm": {
     "name": "#%%\n",
     "is_executing": false
    }
   }
  },
  {
   "cell_type": "markdown",
   "source": [
    "**plot centers and data**\n",
    "\n"
   ],
   "metadata": {
    "collapsed": false
   }
  },
  {
   "cell_type": "code",
   "execution_count": 60,
   "outputs": [
    {
     "data": {
      "text/plain": "<Figure size 432x288 with 1 Axes>",
      "image/png": "[encoded data removed]"
     },
     "metadata": {
      "needs_background": "light"
     },
     "output_type": "display_data"
    }
   ],
   "source": [
    "def plotCenters(feature1, feature2):\n",
    "    plotx = []\n",
    "    ploty = []\n",
    "    for i in range(len(feature1)):\n",
    "        plotx.append(feature1[i])\n",
    "        ploty.append(feature2[i])\n",
    "    plt.plot(plotx,ploty, 'bo', centers[0][0], centers[0][1],'ro', centers[1][0], centers[1][1], 'go',centers[2][0], centers[2][1], 'yo')\n",
    "    \n",
    "    \n",
    "fstTrain = [ex[0] for ex in normalisedTrainData]\n",
    "sndTrain = [ex[1] for ex in normalisedTrainData]\n",
    "fstTest = [ex[0] for ex in normalisedTestData]\n",
    "sndTest = [ex[1] for ex in normalisedTestData]  \n",
    "\n",
    "#plotClassificationData(fstTrain, sndTrain, trainOutputs, 'normalised train data')\n",
    "plotCenters(fstTrain, sndTrain)\n",
    "\n",
    "\n",
    "\n",
    "\n",
    "\n"
   ],
   "metadata": {
    "collapsed": false,
    "pycharm": {
     "name": "#%%\n",
     "is_executing": false
    }
   }
  }
 ],
 "metadata": {
  "kernelspec": {
   "display_name": "Python 3",
   "language": "python",
   "name": "python3"
  },
  "language_info": {
   "codemirror_mode": {
    "name": "ipython",
    "version": 2
   },
   "file_extension": ".py",
   "mimetype": "text/x-python",
   "name": "python",
   "nbconvert_exporter": "python",
   "pygments_lexer": "ipython2",
   "version": "2.7.6"
  },
  "pycharm": {
   "stem_cell": {
    "cell_type": "raw",
    "source": [],
    "metadata": {
     "collapsed": false
    }
   }
  }
 },
 "nbformat": 4,
 "nbformat_minor": 0
}
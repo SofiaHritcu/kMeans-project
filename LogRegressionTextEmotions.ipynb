{
 "cells": [
  {
   "cell_type": "markdown",
   "source": [
    "## Load data"
   ],
   "metadata": {
    "collapsed": false
   }
  },
  {
   "cell_type": "code",
   "execution_count": 35,
   "outputs": [],
   "source": [
    "import csv\n",
    "import re\n",
    "import numpy\n",
    "\n",
    "class Repository(object):\n",
    "    def __init__(self,fileName):\n",
    "        self.fileName = fileName\n",
    "    def  loadData(self,inputColumnFst,outputColumn,):\n",
    "        data=[]\n",
    "        columns=[]\n",
    "        file = open(self.fileName)\n",
    "        parsedData = csv.reader(file,delimiter=',')\n",
    "       \n",
    "        noLines = 0\n",
    "        for line in parsedData:\n",
    "            if noLines == 0:\n",
    "                columns = line\n",
    "            else:\n",
    "                data.append(line)\n",
    "            noLines += 1\n",
    "                \n",
    "        inputColumnIndexFst = columns.index(inputColumnFst)\n",
    "        outputColumnIndex = columns.index(outputColumn)\n",
    "    \n",
    "        inputDataFst = []\n",
    "        inputDataSnd = []\n",
    "    \n",
    "        outputData = []\n",
    "        for j in range(len(data)):\n",
    "            inputDataFst.append(data[j][inputColumnIndexFst])\n",
    "            outputData.append(data[j][outputColumnIndex])\n",
    "        \n",
    "        file.close()\n",
    "        \n",
    "        return inputDataFst,outputData\n",
    "    \n",
    "    \n"
   ],
   "metadata": {
    "collapsed": false,
    "pycharm": {
     "name": "#%%\n",
     "is_executing": false
    }
   }
  },
  {
   "cell_type": "code",
   "execution_count": 36,
   "outputs": [
    {
     "name": "stdout",
     "text": [
      "inputs for column content is: \n",
      "['Layin n bed with a headache  ughhhh...waitin on your call...', 'Funeral ceremony...gloomy friday...', '@dannycastillo We want to trade with someone who has Houston tickets, but no one will.', \"Re-pinging @ghostridah14: why didn't you go to prom? BC my bf didn't like my friends\", \"I should be sleep, but im not! thinking about an old friend who I want. but he's married now. damn, &amp\\t he wants me 2! scandalous!\", 'Hmmm. http://www.djhero.com/ is down', '@charviray Charlene my love. I miss you', \"@kelcouch I'm sorry  at least it's Friday?\", 'cant fall asleep', 'Choked on her retainers', 'Ugh! I have to beat this stupid song to get to the next  rude!', '@BrodyJenner if u watch the hills in london u will realise what tourture it is because were weeks and weeks late  i just watch itonlinelol', 'The storm is here and the electricity is gone', \"So sleepy again and it's not even that late. I fail once again.\", '@PerezHilton lady gaga tweeted about not being impressed by her video leaking just so you know', 'How are YOU convinced that I have always wanted you? What signals did I give off...damn I think I just lost another friend', \"@raaaaaaek oh too bad! I hope it gets better. I've been having sleep issues lately too\", 'No Topic Maps talks at the Balisage Markup Conference 2009   Program online at http://tr.im/mL6Z (via @bobdc) #topicmaps', \"I ate Something I don't know what it is... Why do I keep Telling things about food\", \"so tired and i think i'm definitely going to get an ear infection.  going to bed &quot\\tearly&quot\\t for once.\", 'On my way home n having 2 deal w underage girls drinking gin on da bus while talking bout keggers......damn i feel old', \"@IsaacMascote  i'm sorry people are so rude to you, isaac, they should get some manners and know better than to be so lewd!\", 'Damm servers still down  i need to hit 80 before all the koxpers pass me', \"Fudge.... Just BS'd that whole paper.... So tired.... Ugh I hate school.....  time to sleep!!!!!!!!!!!\", 'I HATE CANCER. I HATE IT I HATE IT I HATE IT.', '@cynthia_123 i cant sleep', 'I missed the bl***y bus!!!!!!!!', 'feels strong contractions but wants to go out.  http://plurk.com/p/wxidk', 'SoCal!  stoked. or maybe not.. tomorrow', 'Screw you @davidbrussee! I only have 3 weeks...', \"@ether_radio yeah :S i feel all funny cause i haven't slept enough  i woke my mum up cause i was singing she's not impressed :S you?\", 'I need skott right now', 'has work this afternoon', '@GABBYiSACTiVE Aw you would not unfollow me would you? Then I would cry', 'just picked up her Blackberry from the middle of the street! Both she and it are crushed!', \"Why do I have the feeling I should be packing and hitting for SFO around this time of the year? I think I'm missing something...\", \"Bed!!!!!... its time,..... hope i go to school tomorrow, all though i don't feel very well right now\", '@onscrn Ahh.  ... Well, I was hoping that I could learn some stuff on the way. ... Why not you and I work on separate things but also', \"I'm having a problem with my photo here in twitter amf!!!...can't see my face!\", \"@jakeboyd, oh noooo!  if i blow a tire you're reaaaally going to have to send up some batman smoke.\", 'wnna take a bath!!!!', 'Chocolate milk is so much better through a straw. I lack said straw', 'why am i so tired?', \"@Mennard time diff and i've just been wrapped up in day to day stuff so i havent been tweeting. talk soon,must sleep...up in 6hrs\", '@benballer  no way! damn that sucks B!  are you ok?', 'sucks not being able to take days off of work or have the money to take the trip  so sad', \"@ramtops the recession. her hotel are restructuring how the accounts are done. adds a bit more pressure in the short term but we'll cope\", '@lostluna But I got dibs on Sulu...', '@maternitytees Aww  Onward and upwards now, yay! Still sad to leave I bet.', '@itsgabbith at once haha.  poor aby still gets sore!', \"diesel yaris... 70mpg  so sad its not available in the US. That'd be awesome.\", 'I want to buy this great album but unfortunately i dont hav enuff funds  its &quot\\tlong time noisy&quot\\t', '@Pokinatcha  in all honesty...pain   blech.', \"Ok ... the passengers ... no one is alive ... they're all dead ... you just don't know it til the end ... then you cry ...\", 'At home alone with not much to do', \"@DavidCookLove ia so much! i haven't really been happy with any of cooks choices for singles.\", \"@vincew @stefanyngo  i fell asleep on the beach and didn't put on enough sunscreen  lol\", 'So i think my son might have the flu cause I def. just cleaned up a stanky puke mess  Poor pumkpin', 'I cant give @jertronic any bday nudges.', \"...and all woman who transfer their first impressions (sexual/maternal) onto a less 'threatening' man -- are themselves as weak as 'Him'\", \"Brothers Bloom won't be opening this weekend in El Paso.  I'll just buy Brick and enjoy that until I can watch Brothers Bloom.\", 'says I miss plurking.  http://plurk.com/p/wxion', 'Bitten to blood by my cat, on my way for a rabies bacterin. Seems 7 shots for 2 months. Never wash my cats at home again, they hate water', 'I miss Voobys!', '@Dancing_Monk Neither are ELP!!', \"is sad that shin ae got married...and it wasn't to alex\", \"@shondarhimes Sure you will tweet about this when you're back, but news is abuzz about TR Knight's leaving &quot\\tconfirmed&quot\\t today.  Muy triste.\", '@RachelLock22 ohh thursday i have exams.. all day  what about wednesday ?', 'there was a mix up with my dentist appt this afternoon. so they rescheduled me for tomorrow @ 9am.', '@gcrush @nopantsdance i was just thinking about how excited i am for you guys to move, but then i realized how sad i am to see you go.', 'goooood mooorning people... sun is out.. definitly spring now, we had our first spring hail storm, my car has dimples now..', \"@artfuldodga I love those 'it'sakey' USB sticks. We only have the 4GB in Australia\", 'fresh prince and sleepy sleeps my nightly routine  gotta go to Dmv early tmrw', '@emmarler i am jealous of your mom talking to @taylorswift13. i want to see you all our twittering is making me miss you', \"I can't sleep...I keep thinking about the puppy I played with today\", \".. I'm suppposed to be sleep. But i got some much to do. &amp\\t i got that one part of the song stuck in my head &quot\\tyour a jerk (iknow)&quot\\t  blaahh\", \"@lepetitagneau what's going on sweetheart?\", \"How can it be so freaking difficult to get a system-wide spellchecker? Shit, I'd settle for an office suite one. Stupid unhelpful Windows\", 'Last one month due to summer, strawberry is not availble in the Chennai markets!', '@willxxmobb work at 6am. Gotta go to bed soon', '@sweeetnspicy hiii im on my ipod...i cant fall asleep', 'dont wanna work 11-830 tomorrow  but i get paid', 'feels sad coz i wasnt able to play with the guys!!!  http://plurk.com/p/wxiux', 'PrinceCharming', 'First ever dropped call on my mobile. On a call to @Telstra no less! ( being charged for data even though I have a data pack  )', 'Oh is that time for real?', \"Darn these allergies! I don't like this time of year because of this! I never used to have this problem either\", 'Oh no one minute too late! Oh well', \"@cayogial i wanted to come to BZ this summer :/ not so sure anymore... a teacher's life in the summer SUCKS\", 'ahh! big scary bug flying around my room!!!!!', 'I wish she knew what she puts me through..She stole my heart, never gave it back..and occasionally she likes to be like look what I have!', 'is up with a nasty cough i cant be sick i have a huge weekend ahead of me', '@justamedicine  That was stone cold   Crazy....  ?', 'shift time  bbye biochem waaaaahhhhhh!! http://plurk.com/p/wxizo', \"@melbournegirl I'm sure some1 will cum out and play. I'm workin through til midnight.\", '@thecreativeone I second that. I wish it rained more where I am', \"@neesabear early happy day of birth in case I don't make it! Very tired from therapy today n just taking my medicine!  misshu! Love ya!\", 'damn it were is Eric or anyone else when you need your hair to be played with', \"I'm feel deflated. Ugh. No more dog.\", 'Allergies suck ducks nuts.     &lt\\t=====8@8=====&gt\\t', 'Well it almost was a good day... Guess I just retry tomorrow', '@poinktoinkdoink He died.  Wait, what about Magic Jack? I just read it.', 'wonders why her Karma points turned into 0.00.  http://plurk.com/p/wxj54', 'Is miserable  i feel like im gona cry  sux!', '@megturney well I ran out of beer so I left. Not sure about the ETA. Waiting waiting waiting. Bleh  Gonna be a long nite methinks.', \"$#@! My nose stud fell out and I can't find it  Looks like I'll have to head into Amsterdam today and get a new one\", 'claire @breakfastnt love the show, got into the office @ 5am and no radio', \"*sigh* I'm going to bed... I just don't feel right anymore...\", \"What? I focused on Tom so much I didn't see my beloved Barack! Oh no! I must vote for both! Poor president only has 626 votes.\", '@jwillock EpiCentre Wheelock Place - tourists only..', 'Now I am depressed after watching so you think you can dance', \"Just cross 'cause I'm stuck twiddling my thumbs now, ugh\", \"miss 16'th\", '@TheHarvardian I know. But like I said, I have no idea how long it takes for them to investigate this stuff.', 'I cant sleep, but im too sore to move', '@LaFloozita http://twitpic.com/4phze - Awe! I miss my baby', 'what is it with chocolates? i just can never say no', 'Achieving a new appreciation on how a xml build script can really be painful and cumbersome', \"@ether_radio i'm too awake now  ill have a nap this afternoon\", '@omfgiselle i cant do anything', 'still needs another 6 hours of sleep', 'Morning tweeple,way to early again', 'Last day working for the Uni today, sad times', 'My head hurts so bad I could scream!', 'i just go up and IM SO TIRED and my airmatras is broken somewhere and now im in even more pain', 'New work wellness challenge not going well.  I committed to not check email between 10 pm and 6 am.  Failed on first day.  Twice', 'New blog post: [Blog] auto insuran...: I just found that my auto insurance policy had been expired. ( I am too careless  ...) .. Meanw ...', 'where are all ma bestfriends at ? , MIA or wat ?', \"oh men!!!!!!......I really can't see my face........c'mon guys!!!\", \"I'm showing my age. Renewed my tags last week, went down $20. Got my insurance renewal email today, went down $100. I don't wanna be old\", 'my sole supporter is not my sole supporter', '@Emilyyy16 urgh stop it guys', 'is still missing her husband.    I really want him home.', 'I miss my puppy', \"@nzdeany I've given up on pizza - kids would never let me have my fav  (the hot ones)\", \"Up reading tabloids about other people's lives...thinking what I'm gonna do with mine when my baby leaves?\", '@BarbSchaefer yearling in pet home died... very sad for their whole family', \"fun in the sun hmmm hell no it's cold\", 'I got a giant splinter stuck up underneath my finger nail today at Muppets...it hurt.  But I got to go to First Aid for the first time!', \"@heresmyhello92 We hate change, so of course. We're fans for life. &lt\\t3 Oh and if we haven't met Rob by then something went horribly wrong.\", 'is feeling sad... for some reason..  http://plurk.com/p/wxji3', \"well fuck- this new pain med has an odd warning that actually applies to me. i can't take this. -chan is displeased.\", 'just uploaded my new blog... a painful story about an 80s year old man who cried because he wanted to die... very sad', \"@juneyee i don't think so.  I WANT DETAILS.\", '@jackgraycnn Hi...!!! Who is Mary Poppins???', '@jaychuck Its so addicting, but its kind of a curse to do them at night time. Everytime i do one, i feel like making music afterwards', \"my last tweet didn't send  bad phone\", '@taxidermi  I was watching Parental Control', 'I just saw pics from this past Thanksgiving and am sad because Grandma was in them.', '@jertronic it wont let me', \"Took a shift tomorrow.    I don't really feel like working right now.\", 'but now i have no money for a phone', 'Spent last night in A&amp\\tE (ER). Wife tangled wheels with Daughter &amp\\t hit the deck. Dislocation &amp\\t fracture resulted.', \"@TheLastDoctor 9 days  I'm about ready to visit Torchwood and see if they've heard anything\", 'Too bad the Red Devils.. disappointing to say the least', '@xdjio Have a 3ware 9650SE, not fast enough for 3x X25-M SSD RAID5. 800Mhz IOP on the HPT. Might try an Adaptec 5405 (1.2Ghz).', \"Ate Mandy, please forgive me. I really am sorry. I don't wanna lose my Bff\", 'why are plane tickets so expensive', 'Needs a job BADLY!!!', '@AlexanderGWhite daaammmnnnnn I do wish I was there.']\n",
      "\n",
      "outputs for column sentiment is: \n",
      "['sadness', 'sadness', 'neutral', 'worry', 'sadness', 'worry', 'sadness', 'sadness', 'neutral', 'worry', 'sadness', 'sadness', 'sadness', 'sadness', 'worry', 'sadness', 'worry', 'neutral', 'worry', 'sadness', 'worry', 'sadness', 'worry', 'sadness', 'worry', 'neutral', 'neutral', 'neutral', 'neutral', 'neutral', 'sadness', 'worry', 'neutral', 'neutral', 'worry', 'worry', 'worry', 'worry', 'sadness', 'neutral', 'neutral', 'neutral', 'worry', 'neutral', 'neutral', 'worry', 'neutral', 'neutral', 'sadness', 'worry', 'sadness', 'sadness', 'sadness', 'sadness', 'neutral', 'worry', 'sadness', 'worry', 'neutral', 'worry', 'neutral', 'neutral', 'worry', 'neutral', 'neutral', 'worry', 'worry', 'sadness', 'neutral', 'sadness', 'worry', 'sadness', 'worry', 'worry', 'worry', 'worry', 'neutral', 'neutral', 'worry', 'neutral', 'sadness', 'sadness', 'sadness', 'neutral', 'worry', 'neutral', 'sadness', 'worry', 'sadness', 'worry', 'sadness', 'worry', 'neutral', 'neutral', 'neutral', 'neutral', 'sadness', 'neutral', 'neutral', 'sadness', 'neutral', 'worry', 'sadness', 'sadness', 'neutral', 'worry', 'neutral', 'sadness', 'neutral', 'neutral', 'sadness', 'sadness', 'neutral', 'neutral', 'worry', 'neutral', 'neutral', 'worry', 'neutral', 'worry', 'neutral', 'neutral', 'sadness', 'worry', 'worry', 'worry', 'worry', 'neutral', 'worry', 'worry', 'worry', 'worry', 'sadness', 'sadness', 'sadness', 'worry', 'sadness', 'neutral', 'worry', 'sadness', 'worry', 'sadness', 'sadness', 'neutral', 'neutral', 'worry', 'neutral', 'neutral', 'sadness', 'worry', 'sadness', 'sadness', 'worry', 'worry', 'sadness', 'sadness', 'worry', 'worry', 'worry', 'sadness']\n",
      "\n"
     ],
     "output_type": "stream"
    }
   ],
   "source": [
    "from sklearn.feature_extraction.text import TfidfVectorizer, TfidfTransformer\n",
    "\n",
    "filename = \"textEmotions.csv\"\n",
    "repository = Repository(filename)\n",
    "inputColumnFst = 'content'\n",
    "vectorizer = TfidfVectorizer(stop_words='english')\n",
    "\n",
    "outputColumn = 'sentiment'\n",
    "inputDataResultFst,outputDataResult = repository.loadData(inputColumnFst, outputColumn)\n",
    "\n",
    "print('inputs for column '+inputColumnFst +' is: \\n'+str(inputDataResultFst)+'\\n')\n",
    "print('outputs for column '+outputColumn +' is: \\n'+str(outputDataResult)+'\\n')\n",
    "\n",
    "\n"
   ],
   "metadata": {
    "collapsed": false,
    "pycharm": {
     "name": "#%%\n",
     "is_executing": false
    }
   }
  },
  {
   "cell_type": "markdown",
   "source": [
    "### separating training data from test data 20%-80%"
   ],
   "metadata": {
    "collapsed": false
   }
  },
  {
   "cell_type": "code",
   "execution_count": 37,
   "outputs": [
    {
     "name": "stdout",
     "text": [
      "['Funeral ceremony...gloomy friday...', '@dannycastillo We want to trade with someone who has Houston tickets, but no one will.', \"Re-pinging @ghostridah14: why didn't you go to prom? BC my bf didn't like my friends\", \"I should be sleep, but im not! thinking about an old friend who I want. but he's married now. damn, &amp\\t he wants me 2! scandalous!\", '@charviray Charlene my love. I miss you', 'Choked on her retainers', 'Ugh! I have to beat this stupid song to get to the next  rude!', '@BrodyJenner if u watch the hills in london u will realise what tourture it is because were weeks and weeks late  i just watch itonlinelol', 'The storm is here and the electricity is gone', \"So sleepy again and it's not even that late. I fail once again.\", '@PerezHilton lady gaga tweeted about not being impressed by her video leaking just so you know', 'How are YOU convinced that I have always wanted you? What signals did I give off...damn I think I just lost another friend', \"@raaaaaaek oh too bad! I hope it gets better. I've been having sleep issues lately too\", 'No Topic Maps talks at the Balisage Markup Conference 2009   Program online at http://tr.im/mL6Z (via @bobdc) #topicmaps', \"I ate Something I don't know what it is... Why do I keep Telling things about food\", \"so tired and i think i'm definitely going to get an ear infection.  going to bed &quot\\tearly&quot\\t for once.\", 'On my way home n having 2 deal w underage girls drinking gin on da bus while talking bout keggers......damn i feel old', \"@IsaacMascote  i'm sorry people are so rude to you, isaac, they should get some manners and know better than to be so lewd!\", 'Damm servers still down  i need to hit 80 before all the koxpers pass me', \"Fudge.... Just BS'd that whole paper.... So tired.... Ugh I hate school.....  time to sleep!!!!!!!!!!!\", 'I HATE CANCER. I HATE IT I HATE IT I HATE IT.', '@cynthia_123 i cant sleep', 'I missed the bl***y bus!!!!!!!!', 'SoCal!  stoked. or maybe not.. tomorrow', 'Screw you @davidbrussee! I only have 3 weeks...', 'I need skott right now', 'has work this afternoon', '@GABBYiSACTiVE Aw you would not unfollow me would you? Then I would cry', 'just picked up her Blackberry from the middle of the street! Both she and it are crushed!', \"Why do I have the feeling I should be packing and hitting for SFO around this time of the year? I think I'm missing something...\", \"Bed!!!!!... its time,..... hope i go to school tomorrow, all though i don't feel very well right now\", '@onscrn Ahh.  ... Well, I was hoping that I could learn some stuff on the way. ... Why not you and I work on separate things but also', \"I'm having a problem with my photo here in twitter amf!!!...can't see my face!\", \"@jakeboyd, oh noooo!  if i blow a tire you're reaaaally going to have to send up some batman smoke.\", 'wnna take a bath!!!!', 'why am i so tired?', \"@Mennard time diff and i've just been wrapped up in day to day stuff so i havent been tweeting. talk soon,must sleep...up in 6hrs\", 'sucks not being able to take days off of work or have the money to take the trip  so sad', \"@ramtops the recession. her hotel are restructuring how the accounts are done. adds a bit more pressure in the short term but we'll cope\", '@lostluna But I got dibs on Sulu...', '@maternitytees Aww  Onward and upwards now, yay! Still sad to leave I bet.', '@itsgabbith at once haha.  poor aby still gets sore!', \"diesel yaris... 70mpg  so sad its not available in the US. That'd be awesome.\", 'I want to buy this great album but unfortunately i dont hav enuff funds  its &quot\\tlong time noisy&quot\\t', '@Pokinatcha  in all honesty...pain   blech.', \"Ok ... the passengers ... no one is alive ... they're all dead ... you just don't know it til the end ... then you cry ...\", 'At home alone with not much to do', \"@DavidCookLove ia so much! i haven't really been happy with any of cooks choices for singles.\", \"@vincew @stefanyngo  i fell asleep on the beach and didn't put on enough sunscreen  lol\", 'So i think my son might have the flu cause I def. just cleaned up a stanky puke mess  Poor pumkpin', \"...and all woman who transfer their first impressions (sexual/maternal) onto a less 'threatening' man -- are themselves as weak as 'Him'\", \"Brothers Bloom won't be opening this weekend in El Paso.  I'll just buy Brick and enjoy that until I can watch Brothers Bloom.\", 'says I miss plurking.  http://plurk.com/p/wxion', 'Bitten to blood by my cat, on my way for a rabies bacterin. Seems 7 shots for 2 months. Never wash my cats at home again, they hate water', 'I miss Voobys!', '@Dancing_Monk Neither are ELP!!', \"@shondarhimes Sure you will tweet about this when you're back, but news is abuzz about TR Knight's leaving &quot\\tconfirmed&quot\\t today.  Muy triste.\", '@RachelLock22 ohh thursday i have exams.. all day  what about wednesday ?', 'there was a mix up with my dentist appt this afternoon. so they rescheduled me for tomorrow @ 9am.', '@gcrush @nopantsdance i was just thinking about how excited i am for you guys to move, but then i realized how sad i am to see you go.', 'goooood mooorning people... sun is out.. definitly spring now, we had our first spring hail storm, my car has dimples now..', \"@artfuldodga I love those 'it'sakey' USB sticks. We only have the 4GB in Australia\", 'fresh prince and sleepy sleeps my nightly routine  gotta go to Dmv early tmrw', \"I can't sleep...I keep thinking about the puppy I played with today\", \".. I'm suppposed to be sleep. But i got some much to do. &amp\\t i got that one part of the song stuck in my head &quot\\tyour a jerk (iknow)&quot\\t  blaahh\", \"@lepetitagneau what's going on sweetheart?\", \"How can it be so freaking difficult to get a system-wide spellchecker? Shit, I'd settle for an office suite one. Stupid unhelpful Windows\", 'Last one month due to summer, strawberry is not availble in the Chennai markets!', '@willxxmobb work at 6am. Gotta go to bed soon', 'dont wanna work 11-830 tomorrow  but i get paid', 'feels sad coz i wasnt able to play with the guys!!!  http://plurk.com/p/wxiux', 'PrinceCharming', 'First ever dropped call on my mobile. On a call to @Telstra no less! ( being charged for data even though I have a data pack  )', 'Oh is that time for real?', 'Oh no one minute too late! Oh well', \"@cayogial i wanted to come to BZ this summer :/ not so sure anymore... a teacher's life in the summer SUCKS\", 'ahh! big scary bug flying around my room!!!!!', 'I wish she knew what she puts me through..She stole my heart, never gave it back..and occasionally she likes to be like look what I have!', 'is up with a nasty cough i cant be sick i have a huge weekend ahead of me', '@justamedicine  That was stone cold   Crazy....  ?', 'shift time  bbye biochem waaaaahhhhhh!! http://plurk.com/p/wxizo', \"@melbournegirl I'm sure some1 will cum out and play. I'm workin through til midnight.\", '@thecreativeone I second that. I wish it rained more where I am', \"@neesabear early happy day of birth in case I don't make it! Very tired from therapy today n just taking my medicine!  misshu! Love ya!\", 'damn it were is Eric or anyone else when you need your hair to be played with', \"I'm feel deflated. Ugh. No more dog.\", 'Well it almost was a good day... Guess I just retry tomorrow', '@poinktoinkdoink He died.  Wait, what about Magic Jack? I just read it.', 'wonders why her Karma points turned into 0.00.  http://plurk.com/p/wxj54', '@megturney well I ran out of beer so I left. Not sure about the ETA. Waiting waiting waiting. Bleh  Gonna be a long nite methinks.', \"*sigh* I'm going to bed... I just don't feel right anymore...\", \"What? I focused on Tom so much I didn't see my beloved Barack! Oh no! I must vote for both! Poor president only has 626 votes.\", '@jwillock EpiCentre Wheelock Place - tourists only..', \"Just cross 'cause I'm stuck twiddling my thumbs now, ugh\", 'I cant sleep, but im too sore to move', '@LaFloozita http://twitpic.com/4phze - Awe! I miss my baby', 'what is it with chocolates? i just can never say no', 'Achieving a new appreciation on how a xml build script can really be painful and cumbersome', '@omfgiselle i cant do anything', 'still needs another 6 hours of sleep', 'Last day working for the Uni today, sad times', 'My head hurts so bad I could scream!', 'i just go up and IM SO TIRED and my airmatras is broken somewhere and now im in even more pain', 'New blog post: [Blog] auto insuran...: I just found that my auto insurance policy had been expired. ( I am too careless  ...) .. Meanw ...', 'where are all ma bestfriends at ? , MIA or wat ?', \"oh men!!!!!!......I really can't see my face........c'mon guys!!!\", 'my sole supporter is not my sole supporter', '@Emilyyy16 urgh stop it guys', 'I miss my puppy', \"@nzdeany I've given up on pizza - kids would never let me have my fav  (the hot ones)\", \"Up reading tabloids about other people's lives...thinking what I'm gonna do with mine when my baby leaves?\", '@BarbSchaefer yearling in pet home died... very sad for their whole family', 'I got a giant splinter stuck up underneath my finger nail today at Muppets...it hurt.  But I got to go to First Aid for the first time!', \"@heresmyhello92 We hate change, so of course. We're fans for life. &lt\\t3 Oh and if we haven't met Rob by then something went horribly wrong.\", 'is feeling sad... for some reason..  http://plurk.com/p/wxji3', \"well fuck- this new pain med has an odd warning that actually applies to me. i can't take this. -chan is displeased.\", 'just uploaded my new blog... a painful story about an 80s year old man who cried because he wanted to die... very sad', '@jaychuck Its so addicting, but its kind of a curse to do them at night time. Everytime i do one, i feel like making music afterwards', '@taxidermi  I was watching Parental Control', 'I just saw pics from this past Thanksgiving and am sad because Grandma was in them.', '@jertronic it wont let me', \"Took a shift tomorrow.    I don't really feel like working right now.\", 'but now i have no money for a phone', 'Spent last night in A&amp\\tE (ER). Wife tangled wheels with Daughter &amp\\t hit the deck. Dislocation &amp\\t fracture resulted.', \"@TheLastDoctor 9 days  I'm about ready to visit Torchwood and see if they've heard anything\", 'Too bad the Red Devils.. disappointing to say the least', \"Ate Mandy, please forgive me. I really am sorry. I don't wanna lose my Bff\", 'why are plane tickets so expensive', '@AlexanderGWhite daaammmnnnnn I do wish I was there.']\n",
      "['sadness', 'neutral', 'worry', 'sadness', 'sadness', 'worry', 'sadness', 'sadness', 'sadness', 'sadness', 'worry', 'sadness', 'worry', 'neutral', 'worry', 'sadness', 'worry', 'sadness', 'worry', 'sadness', 'worry', 'neutral', 'neutral', 'neutral', 'neutral', 'worry', 'neutral', 'neutral', 'worry', 'worry', 'worry', 'worry', 'sadness', 'neutral', 'neutral', 'worry', 'neutral', 'worry', 'neutral', 'neutral', 'sadness', 'worry', 'sadness', 'sadness', 'sadness', 'sadness', 'neutral', 'worry', 'sadness', 'worry', 'worry', 'neutral', 'neutral', 'worry', 'neutral', 'neutral', 'worry', 'sadness', 'neutral', 'sadness', 'worry', 'sadness', 'worry', 'worry', 'worry', 'neutral', 'neutral', 'worry', 'neutral', 'sadness', 'sadness', 'neutral', 'worry', 'neutral', 'worry', 'sadness', 'worry', 'sadness', 'worry', 'neutral', 'neutral', 'neutral', 'neutral', 'sadness', 'neutral', 'neutral', 'neutral', 'worry', 'sadness', 'neutral', 'sadness', 'neutral', 'neutral', 'sadness', 'worry', 'neutral', 'neutral', 'worry', 'worry', 'neutral', 'sadness', 'worry', 'worry', 'worry', 'neutral', 'worry', 'worry', 'worry', 'sadness', 'sadness', 'worry', 'sadness', 'worry', 'sadness', 'worry', 'sadness', 'sadness', 'worry', 'neutral', 'sadness', 'worry', 'sadness', 'sadness', 'worry', 'worry', 'sadness', 'worry', 'worry', 'sadness']\n",
      "['Layin n bed with a headache  ughhhh...waitin on your call...', 'Hmmm. http://www.djhero.com/ is down', \"@kelcouch I'm sorry  at least it's Friday?\", 'cant fall asleep', 'feels strong contractions but wants to go out.  http://plurk.com/p/wxidk', \"@ether_radio yeah :S i feel all funny cause i haven't slept enough  i woke my mum up cause i was singing she's not impressed :S you?\", 'Chocolate milk is so much better through a straw. I lack said straw', '@benballer  no way! damn that sucks B!  are you ok?', 'I cant give @jertronic any bday nudges.', \"is sad that shin ae got married...and it wasn't to alex\", '@emmarler i am jealous of your mom talking to @taylorswift13. i want to see you all our twittering is making me miss you', '@sweeetnspicy hiii im on my ipod...i cant fall asleep', \"Darn these allergies! I don't like this time of year because of this! I never used to have this problem either\", 'Allergies suck ducks nuts.     &lt\\t=====8@8=====&gt\\t', 'Is miserable  i feel like im gona cry  sux!', \"$#@! My nose stud fell out and I can't find it  Looks like I'll have to head into Amsterdam today and get a new one\", 'claire @breakfastnt love the show, got into the office @ 5am and no radio', 'Now I am depressed after watching so you think you can dance', \"miss 16'th\", '@TheHarvardian I know. But like I said, I have no idea how long it takes for them to investigate this stuff.', \"@ether_radio i'm too awake now  ill have a nap this afternoon\", 'Morning tweeple,way to early again', 'New work wellness challenge not going well.  I committed to not check email between 10 pm and 6 am.  Failed on first day.  Twice', \"I'm showing my age. Renewed my tags last week, went down $20. Got my insurance renewal email today, went down $100. I don't wanna be old\", 'is still missing her husband.    I really want him home.', \"fun in the sun hmmm hell no it's cold\", \"@juneyee i don't think so.  I WANT DETAILS.\", '@jackgraycnn Hi...!!! Who is Mary Poppins???', \"my last tweet didn't send  bad phone\", '@xdjio Have a 3ware 9650SE, not fast enough for 3x X25-M SSD RAID5. 800Mhz IOP on the HPT. Might try an Adaptec 5405 (1.2Ghz).', 'Needs a job BADLY!!!']\n",
      "['sadness', 'worry', 'sadness', 'neutral', 'neutral', 'sadness', 'neutral', 'neutral', 'neutral', 'worry', 'worry', 'sadness', 'sadness', 'sadness', 'sadness', 'worry', 'neutral', 'sadness', 'neutral', 'neutral', 'neutral', 'neutral', 'worry', 'worry', 'sadness', 'neutral', 'neutral', 'neutral', 'neutral', 'sadness', 'worry']\n",
      "Cleaning data\n",
      "Finished\n",
      "Cleaning data\n",
      "Finished\n"
     ],
     "output_type": "stream"
    }
   ],
   "source": [
    "import numpy as np \n",
    "import math\n",
    "\n",
    "np.random.seed(5)\n",
    "\n",
    "# generate the positions of the data that will be a part of the test data\n",
    "noTestDataIndexes = math.floor( 0.2 * len(inputDataResultFst))\n",
    "testDataIndexes = []\n",
    "for index in range(0,noTestDataIndexes):\n",
    "    testDataIndexes.append(np.random.randint(0,len(inputDataResultFst)))\n",
    "\n",
    "inputTestFst = []\n",
    "outputTest = []\n",
    "inputTrainingFst = []\n",
    "outputTraining = []\n",
    "for i in range (0,len(inputDataResultFst)):\n",
    "    if i in testDataIndexes :\n",
    "        inputTestFst.append(inputDataResultFst[i])\n",
    "        outputTest.append(outputDataResult[i])\n",
    "    else:\n",
    "        inputTrainingFst.append(inputDataResultFst[i])\n",
    "        outputTraining.append(outputDataResult[i])\n",
    "    \n",
    "print(inputTrainingFst)\n",
    "print(outputTraining)\n",
    "print(inputTestFst)\n",
    "print(outputTest)\n",
    "\n",
    "\n",
    "def clean_text(review_text):\n",
    "    import re\n",
    "    letters_only = re.sub(\"[^a-zA-Z]\", \" \", review_text) \n",
    "    # Convert to lower case, split into individual words\n",
    "    words = letters_only.lower().split()   \n",
    "    return letters_only      \n",
    "        \n",
    "def apply_cleaning_function_to_series(X):\n",
    "    print('Cleaning data')\n",
    "    cleaned_X = []\n",
    "    for element in X:\n",
    "        cleaned_X.append(clean_text(element))\n",
    "    print ('Finished')\n",
    "    return cleaned_X\n",
    "\n",
    "trainClean = apply_cleaning_function_to_series(inputTrainingFst)\n",
    "testClean = apply_cleaning_function_to_series(inputTestFst)\n",
    "\n",
    "from sklearn.feature_extraction.text import CountVectorizer\n",
    "from sklearn.feature_extraction.text import TfidfTransformer\n",
    "\n",
    "vectorizer = CountVectorizer(analyzer = \"word\",\n",
    "                                 tokenizer = None,\n",
    "                                 preprocessor = None,\n",
    "                                 stop_words = None,\n",
    "                                 ngram_range = (1,2),\n",
    "                                 max_features = 200) \n",
    "trainData = vectorizer.fit_transform(trainClean)\n",
    "testData = vectorizer.fit_transform(testClean)\n",
    "trainData = trainData.toarray()\n",
    "testData = testData.toarray()\n",
    "tfidf = TfidfTransformer()\n",
    "featuresTrain = tfidf.fit_transform(trainData).toarray()\n",
    "featuresTest =  tfidf.fit_transform(testData).toarray()\n",
    "vocab = vectorizer.get_feature_names()"
   ],
   "metadata": {
    "collapsed": false,
    "pycharm": {
     "name": "#%%\n",
     "is_executing": false
    }
   }
  },
  {
   "cell_type": "markdown",
   "source": [
    "    **Multivariate linear-regression using LogRegression (class)**"
   ],
   "metadata": {
    "collapsed": false
   }
  },
  {
   "cell_type": "code",
   "execution_count": 38,
   "outputs": [],
   "source": [
    "from math import exp\n",
    "import random\n",
    "class LogRegression(object):\n",
    "    def __init__(self):\n",
    "        self.w0 = 0.0\n",
    "        self.w = []\n",
    "        \n",
    "    def sigmoid(self,x):\n",
    "        return 1 / (1 + exp(-x))\n",
    "    \n",
    "    def calculateGuess(self,inputsRow):\n",
    "        # getting the value of wo in the guess\n",
    "        guess = self.w[0]\n",
    "        for feature in range(len(inputsRow)):\n",
    "            guess += self.w[feature+1] * inputsRow[feature]\n",
    "        return guess\n",
    "   \n",
    "    def calculateError(self,guess,real):\n",
    "        return guess - real\n",
    "        \n",
    "    def computeCoef0PerSample(self,error,learningRate):\n",
    "        return self.w[0] - error * learningRate\n",
    "    \n",
    "    def computeCoefsPerSample(self,error,learningRate,sampleValue,noCoef):\n",
    "        return self.w[noCoef] - error * learningRate * sampleValue\n",
    "        \n",
    "    # stochastic gradient descent\n",
    "    def fit(self,inputs,outputs,learningRate = 0.001,noEpochs = 1000):\n",
    "        noOfFeatures = len(inputs[0])+1\n",
    "        for _ in range(noOfFeatures):\n",
    "            self.w.append(0.0)\n",
    "        # for _ in range(noOfFeatures):\n",
    "            # self.w.append(random.random())\n",
    "        for epoch in range(noEpochs):\n",
    "            # ceofficients update with each sample\n",
    "            for s in range(len(inputs)):\n",
    "                guess = self.sigmoid(self.calculateGuess(inputs[s]))\n",
    "                crtError = self.calculateError(guess,outputs[s])\n",
    "                for noCoef in range(0,len(inputs[0])):\n",
    "                    self.w[noCoef+1] = self.w[noCoef+1] - crtError * learningRate * inputs[s][noCoef]\n",
    "                self.w[0] = self.w[0] - crtError * learningRate \n",
    "        self.w0 = self.w[0]\n",
    "        self.w = self.w[1:]\n",
    "    \n",
    "    def eval(self,inputsRow):\n",
    "         # getting the value of wo in the guess\n",
    "        guess = self.w0\n",
    "        for feature in range(len(inputsRow)):\n",
    "            guess += self.w[feature] * inputsRow[feature]\n",
    "        return guess\n",
    "    \n",
    "    def predict(self,inputs):\n",
    "        outputsComputed = []\n",
    "        for i in range(0,len(inputs)):\n",
    "            outputsComputed.append(self.sigmoid(self.eval(inputs[i])))\n",
    "        return outputsComputed"
   ],
   "metadata": {
    "collapsed": false,
    "pycharm": {
     "name": "#%%\n",
     "is_executing": false
    }
   }
  },
  {
   "cell_type": "markdown",
   "source": [
    "### leran model"
   ],
   "metadata": {
    "collapsed": false
   }
  },
  {
   "cell_type": "code",
   "execution_count": 39,
   "outputs": [
    {
     "name": "stdout",
     "text": [
      "classification model for class worry : y(feat1, feat2,feat3,feat4) =  -0.6071726539152065  +  0.7697575899119514  * feat1 +  -0.13074777626696174  * feat2 +  0.05706478393009234  * feat3 +  -0.0008612288151850366  * feat4\n",
      "classification model for class sadness : y(feat1, feat2,feat3,feat4) =  -0.9218933363720749  +  -0.15474433856474937  * feat1 +  0.3514939624605694  * feat2 +  0.2865078020411799  * feat3 +  -0.2150058187014043  * feat4\n",
      "classification model for class neutral : y(feat1, feat2,feat3,feat4) =  -0.6562340412768515  +  -0.6252320146591644  * feat1 +  -0.21662525079326453  * feat2 +  -0.33822586482988215  * feat3 +  0.21340071093651852  * feat4\n"
     ],
     "output_type": "stream"
    }
   ],
   "source": [
    "def transformOneVsAll(oneClass):\n",
    "    trainInputsAll = []\n",
    "    trainOutputsAll = []\n",
    "    testInputsAll = []\n",
    "    testOutputsAll = []\n",
    "    for dt in range(len(featuresTrain)):\n",
    "        trainInputsAll.append(featuresTrain[dt])\n",
    "        if outputTraining[dt] == oneClass:\n",
    "            trainOutputsAll.append(1)\n",
    "        else:\n",
    "            trainOutputsAll.append(0)\n",
    "            \n",
    "    for dt in range(len(featuresTest)):\n",
    "        testInputsAll.append(featuresTest[dt])\n",
    "        if outputTest[dt] == oneClass:\n",
    "            testOutputsAll.append(1)\n",
    "        else:\n",
    "            testOutputsAll.append(0)    \n",
    "    return trainInputsAll,trainOutputsAll,testInputsAll,testOutputsAll\n",
    "\n",
    "trainInputsAll1,trainOutputsAll1,testInputsAll1,testOutputsAll1 = transformOneVsAll('worry')\n",
    "trainInputsAll2,trainOutputsAll2,testInputsAll2,testOutputsAll2 = transformOneVsAll('sadness')\n",
    "trainInputsAll3,trainOutputsAll3,testInputsAll3,testOutputsAll3 = transformOneVsAll('neutral')\n",
    "\n",
    "from sklearn import linear_model\n",
    "classifierTool1 = linear_model.LogisticRegression()\n",
    "classifierTool2 = linear_model.LogisticRegression()\n",
    "classifierTool3 = linear_model.LogisticRegression()\n",
    "classifierTool1.fit(trainInputsAll1, trainOutputsAll1)\n",
    "classifierTool2.fit(trainInputsAll2, trainOutputsAll2)\n",
    "classifierTool3.fit(trainInputsAll3, trainOutputsAll3)\n",
    "\n",
    "w01Tool, w11Tool, w21Tool, w31Tool,w41Tool  = classifierTool1.intercept_[0],classifierTool1.coef_[0][0],classifierTool1.coef_[0][1],classifierTool1.coef_[0][2],classifierTool1.coef_[0][3]\n",
    "w02Tool, w12Tool, w22Tool, w32Tool,w42Tool  = classifierTool2.intercept_[0],classifierTool2.coef_[0][0],classifierTool2.coef_[0][1],classifierTool2.coef_[0][2],classifierTool2.coef_[0][3]\n",
    "w03Tool, w13Tool, w23Tool, w33Tool,w43Tool  = classifierTool3.intercept_[0],classifierTool3.coef_[0][0],classifierTool3.coef_[0][1],classifierTool3.coef_[0][2],classifierTool3.coef_[0][3]\n",
    "print('classification model for class worry : y(feat1, feat2,feat3,feat4) = ', w01Tool, ' + ', w11Tool, ' * feat1 + ', w21Tool, ' * feat2 + ',w31Tool, ' * feat3 + ',w41Tool, ' * feat4')\n",
    "print('classification model for class sadness : y(feat1, feat2,feat3,feat4) = ', w02Tool, ' + ', w12Tool, ' * feat1 + ', w22Tool, ' * feat2 + ',w32Tool, ' * feat3 + ',w42Tool, ' * feat4')\n",
    "print('classification model for class neutral : y(feat1, feat2,feat3,feat4) = ', w03Tool, ' + ', w13Tool, ' * feat1 + ', w23Tool, ' * feat2 + ',w33Tool, ' * feat3 + ',w43Tool, ' * feat4')\n",
    "\n",
    "\n",
    "classifier1 = LogRegression()\n",
    "#classifier1.fit(trainInputsAll1,trainOutputsAll1,0.001,1100)\n",
    "\n",
    "classifier2 = LogRegression()\n",
    "#classifier2.fit(trainInputsAll2,trainOutputsAll2,0.001,1100)\n",
    "\n",
    "classifier3 = LogRegression()\n",
    "#classifier3.fit(trainInputsAll3,trainOutputsAll3,0.001,1100)\n",
    "\n",
    "#w01, w11, w21, w31,w41  = classifier1.w0,classifier1.w[0],classifier1.w[1],classifier1.w[2],classifier1.w[3]\n",
    "#w02, w12, w22, w32,w42  = classifier2.w0,classifier2.w[0],classifier2.w[1],classifier2.w[2],classifier2.w[3]\n",
    "#w03, w13, w23, w33,w43  = classifier3.w0,classifier3.w[0],classifier3.w[1],classifier3.w[2],classifier3.w[3]\n",
    "#print('Code:')\n",
    "#print('classification model for class worry : y(feat1, feat2,feat3,feat4) = ', w01, ' + ', w11, ' * feat1 + ', w21, ' * feat2 + ',w31, ' * feat3 + ',w41, ' * feat4')\n",
    "#print('classification model for class sadness : y(feat1, feat2,feat3,feat4) = ', w02, ' + ', w12, ' * feat1 + ', w22, ' * feat2 + ',w32 ,' * feat3 + ',w42, ' * feat4')\n",
    "#print('classification model for class neutral : y(feat1, feat2,feat3,feat4) = ', w03, ' + ', w13, ' * feat1 + ', w23, ' * feat2 + ',w33, ' * feat3 + ',w43, ' * feat4')\n",
    "\n",
    "\n"
   ],
   "metadata": {
    "collapsed": false,
    "pycharm": {
     "name": "#%%\n",
     "is_executing": false
    }
   }
  },
  {
   "cell_type": "markdown",
   "source": [
    "## predict classes for test data"
   ],
   "metadata": {
    "collapsed": false
   }
  },
  {
   "cell_type": "code",
   "execution_count": 40,
   "outputs": [],
   "source": [
    "computedTestOutputs1 = classifierTool1.predict(testInputsAll1)\n",
    "computedTestOutputs2 = classifierTool2.predict(testInputsAll2)\n",
    "computedTestOutputs3 = classifierTool3.predict(testInputsAll3)\n",
    "\n",
    "\n",
    "computedTestOutputs = []\n",
    "\n",
    "for i in range(0,len(computedTestOutputs1)):\n",
    "    max = computedTestOutputs1[i]\n",
    "    cls = 'worry'\n",
    "    if computedTestOutputs2[i] > max :\n",
    "        max = computedTestOutputs2[i]\n",
    "        cls = 'sadness'\n",
    "    if computedTestOutputs3[i] > max :\n",
    "        max = computedTestOutputs3[i]\n",
    "        cls = 'neutral'\n",
    "    computedTestOutputs.append(cls)\n",
    "    \n",
    "\n",
    "\n"
   ],
   "metadata": {
    "collapsed": false,
    "pycharm": {
     "name": "#%%\n",
     "is_executing": false
    }
   }
  },
  {
   "cell_type": "markdown",
   "source": [
    "### calculate error\n",
    "\n"
   ],
   "metadata": {
    "collapsed": false
   }
  },
  {
   "cell_type": "code",
   "execution_count": 41,
   "outputs": [
    {
     "name": "stdout",
     "text": [
      "classification error (manual) with code:  0.7741935483870968\n",
      "classification error (tool) with code:  0.7741935483870968\n"
     ],
     "output_type": "stream"
    }
   ],
   "source": [
    "error = 0.0\n",
    "for guess, real in zip(computedTestOutputs, outputTest):\n",
    "    if guess != real:\n",
    "        error += 1\n",
    "error = error / len(outputTest)\n",
    "print(\"classification error (manual) with code: \", error)\n",
    "\n",
    "\n",
    "from sklearn.metrics import accuracy_score\n",
    "error = 1 - accuracy_score(outputTest, computedTestOutputs)\n",
    "print(\"classification error (tool) with code: \", error)"
   ],
   "metadata": {
    "collapsed": false,
    "pycharm": {
     "name": "#%%\n",
     "is_executing": false
    }
   }
  },
  {
   "cell_type": "markdown",
   "source": [
    "\n"
   ],
   "metadata": {
    "collapsed": false
   }
  }
 ],
 "metadata": {
  "kernelspec": {
   "display_name": "Python 3",
   "language": "python",
   "name": "python3"
  },
  "language_info": {
   "codemirror_mode": {
    "name": "ipython",
    "version": 2
   },
   "file_extension": ".py",
   "mimetype": "text/x-python",
   "name": "python",
   "nbconvert_exporter": "python",
   "pygments_lexer": "ipython2",
   "version": "2.7.6"
  },
  "pycharm": {
   "stem_cell": {
    "cell_type": "raw",
    "source": [],
    "metadata": {
     "collapsed": false
    }
   }
  }
 },
 "nbformat": 4,
 "nbformat_minor": 0
}